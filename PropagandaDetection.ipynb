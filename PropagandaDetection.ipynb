{
 "cells": [
  {
   "cell_type": "markdown",
   "id": "24832dd6",
   "metadata": {},
   "source": [
    "# Propaganda Detection\n",
    "This project explores the use of transformer-based models like BERT and RoBERTa to detect propaganda in text by distinguishing between propagandist and non-propagandist content."
   ]
  },
  {
   "cell_type": "markdown",
   "id": "908c3900-a4db-4772-9f81-8362a14c5766",
   "metadata": {},
   "source": [
    "## Environment Setup"
   ]
  },
  {
   "cell_type": "code",
   "execution_count": 1,
   "id": "26829855",
   "metadata": {},
   "outputs": [],
   "source": [
    "# Set up for BERT and RoBERTA models\n",
    "import torch\n",
    "from torch import nn\n",
    "from torch.utils.data import Dataset, DataLoader\n",
    "from transformers import BertTokenizer, BertModel, RobertaTokenizer, RobertaModel\n",
    "\n",
    "# Additional utilities\n",
    "import pandas as pd\n",
    "from tqdm import tqdm\n",
    "import numpy as np\n",
    "import random\n",
    "from sklearn.metrics import classification_report, confusion_matrix\n",
    "import matplotlib.pyplot as plt\n",
    "import seaborn as sns"
   ]
  },
  {
   "cell_type": "code",
   "execution_count": 2,
   "id": "15319753-91f4-4757-b7bc-baff0cd18812",
   "metadata": {},
   "outputs": [],
   "source": [
    "# Sets seed for reproducibility\n",
    "def set_seed(seed):\n",
    "    random.seed(seed)\n",
    "    np.random.seed(seed)\n",
    "    torch.manual_seed(seed)\n",
    "    torch.cuda.manual_seed(seed)\n",
    "    torch.cuda.manual_seed_all(seed)\n",
    "\n",
    "    # Ensure deterministic behavior\n",
    "    torch.backends.cudnn.deterministic = True\n",
    "    torch.backends.cudnn.benchmark = False\n",
    "\n",
    "SEED = 27\n",
    "set_seed(SEED)\n",
    "\n",
    "# Device config\n",
    "device = torch.device(\"cuda\" if torch.cuda.is_available() else \"cpu\")"
   ]
  },
  {
   "cell_type": "markdown",
   "id": "1ffb638e",
   "metadata": {},
   "source": [
    "## Data Loading and Exploration"
   ]
  },
  {
   "cell_type": "code",
   "execution_count": 3,
   "id": "d072e06b",
   "metadata": {},
   "outputs": [
    {
     "data": {
      "text/html": [
       "<div>\n",
       "<style scoped>\n",
       "    .dataframe tbody tr th:only-of-type {\n",
       "        vertical-align: middle;\n",
       "    }\n",
       "\n",
       "    .dataframe tbody tr th {\n",
       "        vertical-align: top;\n",
       "    }\n",
       "\n",
       "    .dataframe thead th {\n",
       "        text-align: right;\n",
       "    }\n",
       "</style>\n",
       "<table border=\"1\" class=\"dataframe\">\n",
       "  <thead>\n",
       "    <tr style=\"text-align: right;\">\n",
       "      <th></th>\n",
       "      <th>label</th>\n",
       "      <th>tagged_in_context</th>\n",
       "    </tr>\n",
       "  </thead>\n",
       "  <tbody>\n",
       "    <tr>\n",
       "      <th>0</th>\n",
       "      <td>not_propaganda</td>\n",
       "      <td>No, &lt;BOS&gt; he &lt;EOS&gt; will not be confirmed.</td>\n",
       "    </tr>\n",
       "    <tr>\n",
       "      <th>1</th>\n",
       "      <td>not_propaganda</td>\n",
       "      <td>This declassification effort &lt;BOS&gt; won’t make ...</td>\n",
       "    </tr>\n",
       "    <tr>\n",
       "      <th>2</th>\n",
       "      <td>flag_waving</td>\n",
       "      <td>The Obama administration misled the &lt;BOS&gt; Amer...</td>\n",
       "    </tr>\n",
       "    <tr>\n",
       "      <th>3</th>\n",
       "      <td>not_propaganda</td>\n",
       "      <td>“It looks like we’re capturing the demise of t...</td>\n",
       "    </tr>\n",
       "    <tr>\n",
       "      <th>4</th>\n",
       "      <td>not_propaganda</td>\n",
       "      <td>&lt;BOS&gt; Location: Westerville, Ohio &lt;EOS&gt;</td>\n",
       "    </tr>\n",
       "    <tr>\n",
       "      <th>...</th>\n",
       "      <td>...</td>\n",
       "      <td>...</td>\n",
       "    </tr>\n",
       "    <tr>\n",
       "      <th>2409</th>\n",
       "      <td>not_propaganda</td>\n",
       "      <td>&lt;BOS&gt; We support and appreciate &lt;EOS&gt; your bus...</td>\n",
       "    </tr>\n",
       "    <tr>\n",
       "      <th>2410</th>\n",
       "      <td>not_propaganda</td>\n",
       "      <td>International Atomic Energy Agency (IAEA) Dire...</td>\n",
       "    </tr>\n",
       "    <tr>\n",
       "      <th>2411</th>\n",
       "      <td>not_propaganda</td>\n",
       "      <td>What has been done: there has been work on for...</td>\n",
       "    </tr>\n",
       "    <tr>\n",
       "      <th>2412</th>\n",
       "      <td>not_propaganda</td>\n",
       "      <td>This is &lt;BOS&gt; the law of gradualness not the g...</td>\n",
       "    </tr>\n",
       "    <tr>\n",
       "      <th>2413</th>\n",
       "      <td>name_calling,labeling</td>\n",
       "      <td>In it, Jews are described as: “arrogant,” “jea...</td>\n",
       "    </tr>\n",
       "  </tbody>\n",
       "</table>\n",
       "<p>2405 rows × 2 columns</p>\n",
       "</div>"
      ],
      "text/plain": [
       "                      label                                  tagged_in_context\n",
       "0            not_propaganda         No, <BOS> he <EOS> will not be confirmed. \n",
       "1            not_propaganda  This declassification effort <BOS> won’t make ...\n",
       "2               flag_waving  The Obama administration misled the <BOS> Amer...\n",
       "3            not_propaganda  “It looks like we’re capturing the demise of t...\n",
       "4            not_propaganda           <BOS> Location: Westerville, Ohio <EOS> \n",
       "...                     ...                                                ...\n",
       "2409         not_propaganda  <BOS> We support and appreciate <EOS> your bus...\n",
       "2410         not_propaganda  International Atomic Energy Agency (IAEA) Dire...\n",
       "2411         not_propaganda  What has been done: there has been work on for...\n",
       "2412         not_propaganda  This is <BOS> the law of gradualness not the g...\n",
       "2413  name_calling,labeling  In it, Jews are described as: “arrogant,” “jea...\n",
       "\n",
       "[2405 rows x 2 columns]"
      ]
     },
     "execution_count": 3,
     "metadata": {},
     "output_type": "execute_result"
    }
   ],
   "source": [
    "# Loading training data and removing duplicate rows\n",
    "train_df = pd.read_csv('./dataset/train.tsv', sep='\\t').drop_duplicates()\n",
    "train_df"
   ]
  },
  {
   "cell_type": "code",
   "execution_count": 4,
   "id": "096cdd69",
   "metadata": {},
   "outputs": [
    {
     "data": {
      "text/html": [
       "<div>\n",
       "<style scoped>\n",
       "    .dataframe tbody tr th:only-of-type {\n",
       "        vertical-align: middle;\n",
       "    }\n",
       "\n",
       "    .dataframe tbody tr th {\n",
       "        vertical-align: top;\n",
       "    }\n",
       "\n",
       "    .dataframe thead th {\n",
       "        text-align: right;\n",
       "    }\n",
       "</style>\n",
       "<table border=\"1\" class=\"dataframe\">\n",
       "  <thead>\n",
       "    <tr style=\"text-align: right;\">\n",
       "      <th></th>\n",
       "      <th>label</th>\n",
       "      <th>tagged_in_context</th>\n",
       "    </tr>\n",
       "  </thead>\n",
       "  <tbody>\n",
       "    <tr>\n",
       "      <th>0</th>\n",
       "      <td>not_propaganda</td>\n",
       "      <td>On average, between 300 and 600 infections are...</td>\n",
       "    </tr>\n",
       "    <tr>\n",
       "      <th>1</th>\n",
       "      <td>causal_oversimplification</td>\n",
       "      <td>Mostly because &lt;BOS&gt; the country would not las...</td>\n",
       "    </tr>\n",
       "    <tr>\n",
       "      <th>2</th>\n",
       "      <td>appeal_to_fear_prejudice</td>\n",
       "      <td>Lyndon Johnson &lt;BOS&gt; gets Earl Warren and Sen....</td>\n",
       "    </tr>\n",
       "    <tr>\n",
       "      <th>3</th>\n",
       "      <td>not_propaganda</td>\n",
       "      <td>&lt;BOS&gt; You &lt;EOS&gt; may opt out at anytime.</td>\n",
       "    </tr>\n",
       "    <tr>\n",
       "      <th>4</th>\n",
       "      <td>repetition</td>\n",
       "      <td>It must be exacted from him directly in order ...</td>\n",
       "    </tr>\n",
       "    <tr>\n",
       "      <th>...</th>\n",
       "      <td>...</td>\n",
       "      <td>...</td>\n",
       "    </tr>\n",
       "    <tr>\n",
       "      <th>575</th>\n",
       "      <td>not_propaganda</td>\n",
       "      <td>NewsCatholic Church, &lt;BOS&gt; Family, Marriage &lt;E...</td>\n",
       "    </tr>\n",
       "    <tr>\n",
       "      <th>576</th>\n",
       "      <td>not_propaganda</td>\n",
       "      <td>Remember our saying, modern day fairy &lt;BOS&gt; ta...</td>\n",
       "    </tr>\n",
       "    <tr>\n",
       "      <th>577</th>\n",
       "      <td>not_propaganda</td>\n",
       "      <td>Why &lt;BOS&gt; not &lt;EOS&gt; open up to Iran with massi...</td>\n",
       "    </tr>\n",
       "    <tr>\n",
       "      <th>578</th>\n",
       "      <td>flag_waving</td>\n",
       "      <td>&lt;BOS&gt; He also sang an Islamic State fight song...</td>\n",
       "    </tr>\n",
       "    <tr>\n",
       "      <th>579</th>\n",
       "      <td>causal_oversimplification</td>\n",
       "      <td>We hear again, as we did incessantly from the ...</td>\n",
       "    </tr>\n",
       "  </tbody>\n",
       "</table>\n",
       "<p>580 rows × 2 columns</p>\n",
       "</div>"
      ],
      "text/plain": [
       "                         label  \\\n",
       "0               not_propaganda   \n",
       "1    causal_oversimplification   \n",
       "2     appeal_to_fear_prejudice   \n",
       "3               not_propaganda   \n",
       "4                   repetition   \n",
       "..                         ...   \n",
       "575             not_propaganda   \n",
       "576             not_propaganda   \n",
       "577             not_propaganda   \n",
       "578                flag_waving   \n",
       "579  causal_oversimplification   \n",
       "\n",
       "                                     tagged_in_context  \n",
       "0    On average, between 300 and 600 infections are...  \n",
       "1    Mostly because <BOS> the country would not las...  \n",
       "2    Lyndon Johnson <BOS> gets Earl Warren and Sen....  \n",
       "3             <BOS> You <EOS> may opt out at anytime.   \n",
       "4    It must be exacted from him directly in order ...  \n",
       "..                                                 ...  \n",
       "575  NewsCatholic Church, <BOS> Family, Marriage <E...  \n",
       "576  Remember our saying, modern day fairy <BOS> ta...  \n",
       "577  Why <BOS> not <EOS> open up to Iran with massi...  \n",
       "578  <BOS> He also sang an Islamic State fight song...  \n",
       "579  We hear again, as we did incessantly from the ...  \n",
       "\n",
       "[580 rows x 2 columns]"
      ]
     },
     "execution_count": 4,
     "metadata": {},
     "output_type": "execute_result"
    }
   ],
   "source": [
    "# Loading testing data and removing duplicate rows\n",
    "test_df = pd.read_csv('./dataset/test.tsv', sep='\\t').drop_duplicates()\n",
    "test_df"
   ]
  },
  {
   "cell_type": "code",
   "execution_count": 5,
   "id": "a1cbd14c",
   "metadata": {},
   "outputs": [
    {
     "data": {
      "text/plain": [
       "(label                0\n",
       " tagged_in_context    0\n",
       " dtype: int64,\n",
       " label                0\n",
       " tagged_in_context    0\n",
       " dtype: int64)"
      ]
     },
     "execution_count": 5,
     "metadata": {},
     "output_type": "execute_result"
    }
   ],
   "source": [
    "# Check for missing (NaN) values in both training and testing DataFrames\n",
    "train_df.isna().sum(),test_df.isna().sum()"
   ]
  },
  {
   "cell_type": "code",
   "execution_count": 6,
   "id": "9747634d",
   "metadata": {},
   "outputs": [
    {
     "data": {
      "text/plain": [
       "array(['not_propaganda', 'flag_waving', 'loaded_language', 'doubt',\n",
       "       'name_calling,labeling', 'appeal_to_fear_prejudice', 'repetition',\n",
       "       'causal_oversimplification', 'exaggeration,minimisation'],\n",
       "      dtype=object)"
      ]
     },
     "execution_count": 6,
     "metadata": {},
     "output_type": "execute_result"
    }
   ],
   "source": [
    "# Display the unique labels in the 'label' column of the training DataFrame\n",
    "train_df.label.unique()"
   ]
  },
  {
   "cell_type": "code",
   "execution_count": 7,
   "id": "9536481d",
   "metadata": {},
   "outputs": [],
   "source": [
    "# Binary label encoding: mark all labels except 'not_propaganda' as 1, else 0\n",
    "train_df['binary_label'] = (train_df['label'] != 'not_propaganda').astype(int)\n",
    "test_df['binary_label'] = (test_df['label'] != 'not_propaganda').astype(int)"
   ]
  },
  {
   "cell_type": "code",
   "execution_count": 8,
   "id": "e8e79428-a8ae-4c56-92e8-12b0da753ca2",
   "metadata": {},
   "outputs": [
    {
     "data": {
      "text/html": [
       "<div>\n",
       "<style scoped>\n",
       "    .dataframe tbody tr th:only-of-type {\n",
       "        vertical-align: middle;\n",
       "    }\n",
       "\n",
       "    .dataframe tbody tr th {\n",
       "        vertical-align: top;\n",
       "    }\n",
       "\n",
       "    .dataframe thead th {\n",
       "        text-align: right;\n",
       "    }\n",
       "</style>\n",
       "<table border=\"1\" class=\"dataframe\">\n",
       "  <thead>\n",
       "    <tr style=\"text-align: right;\">\n",
       "      <th></th>\n",
       "      <th>label</th>\n",
       "      <th>tagged_in_context</th>\n",
       "      <th>binary_label</th>\n",
       "    </tr>\n",
       "  </thead>\n",
       "  <tbody>\n",
       "    <tr>\n",
       "      <th>0</th>\n",
       "      <td>not_propaganda</td>\n",
       "      <td>No, &lt;BOS&gt; he &lt;EOS&gt; will not be confirmed.</td>\n",
       "      <td>0</td>\n",
       "    </tr>\n",
       "    <tr>\n",
       "      <th>1</th>\n",
       "      <td>not_propaganda</td>\n",
       "      <td>This declassification effort &lt;BOS&gt; won’t make ...</td>\n",
       "      <td>0</td>\n",
       "    </tr>\n",
       "    <tr>\n",
       "      <th>2</th>\n",
       "      <td>flag_waving</td>\n",
       "      <td>The Obama administration misled the &lt;BOS&gt; Amer...</td>\n",
       "      <td>1</td>\n",
       "    </tr>\n",
       "    <tr>\n",
       "      <th>3</th>\n",
       "      <td>not_propaganda</td>\n",
       "      <td>“It looks like we’re capturing the demise of t...</td>\n",
       "      <td>0</td>\n",
       "    </tr>\n",
       "    <tr>\n",
       "      <th>4</th>\n",
       "      <td>not_propaganda</td>\n",
       "      <td>&lt;BOS&gt; Location: Westerville, Ohio &lt;EOS&gt;</td>\n",
       "      <td>0</td>\n",
       "    </tr>\n",
       "  </tbody>\n",
       "</table>\n",
       "</div>"
      ],
      "text/plain": [
       "            label                                  tagged_in_context  \\\n",
       "0  not_propaganda         No, <BOS> he <EOS> will not be confirmed.    \n",
       "1  not_propaganda  This declassification effort <BOS> won’t make ...   \n",
       "2     flag_waving  The Obama administration misled the <BOS> Amer...   \n",
       "3  not_propaganda  “It looks like we’re capturing the demise of t...   \n",
       "4  not_propaganda           <BOS> Location: Westerville, Ohio <EOS>    \n",
       "\n",
       "   binary_label  \n",
       "0             0  \n",
       "1             0  \n",
       "2             1  \n",
       "3             0  \n",
       "4             0  "
      ]
     },
     "execution_count": 8,
     "metadata": {},
     "output_type": "execute_result"
    }
   ],
   "source": [
    "train_df.head(5)"
   ]
  },
  {
   "cell_type": "code",
   "execution_count": 9,
   "id": "fd74f1ee-f94b-4f48-b1a3-f617952c5abe",
   "metadata": {},
   "outputs": [
    {
     "data": {
      "text/html": [
       "<div>\n",
       "<style scoped>\n",
       "    .dataframe tbody tr th:only-of-type {\n",
       "        vertical-align: middle;\n",
       "    }\n",
       "\n",
       "    .dataframe tbody tr th {\n",
       "        vertical-align: top;\n",
       "    }\n",
       "\n",
       "    .dataframe thead th {\n",
       "        text-align: right;\n",
       "    }\n",
       "</style>\n",
       "<table border=\"1\" class=\"dataframe\">\n",
       "  <thead>\n",
       "    <tr style=\"text-align: right;\">\n",
       "      <th></th>\n",
       "      <th>label</th>\n",
       "      <th>tagged_in_context</th>\n",
       "      <th>binary_label</th>\n",
       "    </tr>\n",
       "  </thead>\n",
       "  <tbody>\n",
       "    <tr>\n",
       "      <th>0</th>\n",
       "      <td>not_propaganda</td>\n",
       "      <td>On average, between 300 and 600 infections are...</td>\n",
       "      <td>0</td>\n",
       "    </tr>\n",
       "    <tr>\n",
       "      <th>1</th>\n",
       "      <td>causal_oversimplification</td>\n",
       "      <td>Mostly because &lt;BOS&gt; the country would not las...</td>\n",
       "      <td>1</td>\n",
       "    </tr>\n",
       "    <tr>\n",
       "      <th>2</th>\n",
       "      <td>appeal_to_fear_prejudice</td>\n",
       "      <td>Lyndon Johnson &lt;BOS&gt; gets Earl Warren and Sen....</td>\n",
       "      <td>1</td>\n",
       "    </tr>\n",
       "    <tr>\n",
       "      <th>3</th>\n",
       "      <td>not_propaganda</td>\n",
       "      <td>&lt;BOS&gt; You &lt;EOS&gt; may opt out at anytime.</td>\n",
       "      <td>0</td>\n",
       "    </tr>\n",
       "    <tr>\n",
       "      <th>4</th>\n",
       "      <td>repetition</td>\n",
       "      <td>It must be exacted from him directly in order ...</td>\n",
       "      <td>1</td>\n",
       "    </tr>\n",
       "  </tbody>\n",
       "</table>\n",
       "</div>"
      ],
      "text/plain": [
       "                       label  \\\n",
       "0             not_propaganda   \n",
       "1  causal_oversimplification   \n",
       "2   appeal_to_fear_prejudice   \n",
       "3             not_propaganda   \n",
       "4                 repetition   \n",
       "\n",
       "                                   tagged_in_context  binary_label  \n",
       "0  On average, between 300 and 600 infections are...             0  \n",
       "1  Mostly because <BOS> the country would not las...             1  \n",
       "2  Lyndon Johnson <BOS> gets Earl Warren and Sen....             1  \n",
       "3           <BOS> You <EOS> may opt out at anytime.              0  \n",
       "4  It must be exacted from him directly in order ...             1  "
      ]
     },
     "execution_count": 9,
     "metadata": {},
     "output_type": "execute_result"
    }
   ],
   "source": [
    "test_df.head(5)"
   ]
  },
  {
   "cell_type": "markdown",
   "id": "1173c692",
   "metadata": {},
   "source": [
    "### Distribution plot for training data"
   ]
  },
  {
   "cell_type": "code",
   "execution_count": 10,
   "id": "a0fce85b",
   "metadata": {},
   "outputs": [
    {
     "data": {
      "image/png": "[encoded data removed]",
      "text/plain": [
       "<Figure size 400x500 with 1 Axes>"
      ]
     },
     "metadata": {},
     "output_type": "display_data"
    }
   ],
   "source": [
    "# Plot binary label distribution\n",
    "plt.figure(figsize=(4,5))\n",
    "sns.countplot(x='binary_label', data=train_df)\n",
    "\n",
    "plt.xticks([0, 1], ['not_propaganda', 'propaganda'])\n",
    "plt.xlabel('Label')\n",
    "plt.ylabel('Count')\n",
    "plt.title('Frequency Distribution for Labels')\n",
    "plt.grid(axis='y', linestyle='--', alpha=0.7)\n",
    "plt.show()"
   ]
  },
  {
   "cell_type": "markdown",
   "id": "497ec107-f5ed-46e7-bb72-746a0e5cede3",
   "metadata": {},
   "source": [
    "## Preprocessing"
   ]
  },
  {
   "cell_type": "code",
   "execution_count": 11,
   "id": "295806b6",
   "metadata": {},
   "outputs": [],
   "source": [
    "# Custom Dataset class\n",
    "class PropagandaDataset(Dataset):\n",
    "    def __init__(self, df, tokenizer, text_column='tagged_in_context'):\n",
    "        self.labels = df['binary_label'].tolist()\n",
    "        self.texts = [tokenizer(text, padding='max_length', max_length=256, truncation=True, return_tensors=\"pt\") for text in df[text_column]]\n",
    "\n",
    "    def __len__(self):\n",
    "        return len(self.labels)\n",
    "\n",
    "    def __getitem__(self, idx):\n",
    "        return self.texts[idx], self.labels[idx]\n",
    "\n",
    "# Prepare inputs\n",
    "def prepare_inputs(batch_input, labels, device):\n",
    "    input_ids = batch_input['input_ids'].squeeze(1).to(device)\n",
    "    attention_mask = batch_input['attention_mask'].squeeze(1).to(device)\n",
    "    labels = labels.to(device).float()\n",
    "    return input_ids, attention_mask, labels"
   ]
  },
  {
   "cell_type": "markdown",
   "id": "6eacb96b-79e7-47cd-b5b4-35744b01c88f",
   "metadata": {},
   "source": [
    "## Modeling Utilities"
   ]
  },
  {
   "cell_type": "code",
   "execution_count": 12,
   "id": "5a3f8be0-ce46-4142-8de5-3768ff99d4bb",
   "metadata": {},
   "outputs": [],
   "source": [
    "# Training function\n",
    "def train(model, train_data, learning_rate, epochs, batch_size):\n",
    "    # Create a generator for reproducible shuffling\n",
    "    g = torch.Generator()\n",
    "    g.manual_seed(SEED)\n",
    "    \n",
    "    train_loader = DataLoader(train_data, batch_size=batch_size, shuffle=True, generator=g)\n",
    "\n",
    "    criterion = nn.BCEWithLogitsLoss()\n",
    "    optimizer = torch.optim.AdamW(model.parameters(), lr=learning_rate)\n",
    "\n",
    "    model.to(device)\n",
    "\n",
    "    for epoch in range(epochs):\n",
    "        model.train()\n",
    "        total_loss, total_acc = 0, 0\n",
    "        for batch_input, labels in tqdm(train_loader, desc=f\"Training Epoch {epoch+1}\"):\n",
    "            input_id, mask, labels = prepare_inputs(batch_input, labels, device)\n",
    "            optimizer.zero_grad()\n",
    "            outputs = model(input_id, mask).squeeze()\n",
    "            loss = criterion(outputs, labels)\n",
    "            loss.backward()\n",
    "            optimizer.step()\n",
    "            total_loss += loss.item()\n",
    "            preds = torch.round(torch.sigmoid(outputs))\n",
    "            total_acc += (preds == labels).sum().item()\n",
    "\n",
    "        print(f\"Epoch {epoch+1}: Train Loss: {total_loss/len(train_loader):.4f}, Accuracy: {total_acc/len(train_data):.4f}\")\n",
    "\n",
    "    return model\n",
    "\n",
    "\n",
    "# Evaluation function\n",
    "def evaluate(model, test_data, batch_size):\n",
    "    test_loader = DataLoader(test_data, batch_size=batch_size)\n",
    "    model.eval()\n",
    "    all_preds, all_labels = [], []\n",
    "    with torch.no_grad():\n",
    "        for batch_input, labels in tqdm(test_loader):\n",
    "            input_id, mask, labels = prepare_inputs(batch_input, labels, device)\n",
    "            outputs = model(input_id, mask).squeeze()\n",
    "            preds = torch.round(torch.sigmoid(outputs)).cpu().numpy()\n",
    "            all_preds.extend(preds)\n",
    "            all_labels.extend(labels.cpu().numpy())\n",
    "    \n",
    "    # Classification report and confusion matrix\n",
    "    print(\"Classification Report\\n\")\n",
    "    print(classification_report(all_labels, all_preds, target_names=[\"Not Propaganda\", \"Propaganda\"]))\n",
    "    cm = confusion_matrix(all_labels, all_preds)\n",
    "    sns.heatmap(cm, annot=True, fmt='d', cmap='Blues', xticklabels=[\"Not Propaganda\", \"Propaganda\"], yticklabels=[\"Not Propaganda\", \"Propaganda\"])\n",
    "    plt.xlabel(\"Predicted\")\n",
    "    plt.ylabel(\"Actual\")\n",
    "    plt.title(\"Confusion Matrix\")\n",
    "    plt.show()"
   ]
  },
  {
   "cell_type": "markdown",
   "id": "eef89cdc-7970-4fa3-87e5-323e26cb0ce9",
   "metadata": {},
   "source": [
    "## BERT Model: Training and Evaluation"
   ]
  },
  {
   "cell_type": "code",
   "execution_count": 13,
   "id": "45397eb0-c822-4e7b-92ee-1e1494853d51",
   "metadata": {},
   "outputs": [
    {
     "name": "stderr",
     "output_type": "stream",
     "text": [
      "Training Epoch 1: 100%|██████████████████████████████████████████████████████████████| 151/151 [01:04<00:00,  2.34it/s]\n"
     ]
    },
    {
     "name": "stdout",
     "output_type": "stream",
     "text": [
      "Epoch 1: Train Loss: 0.4624, Accuracy: 0.7755\n"
     ]
    },
    {
     "name": "stderr",
     "output_type": "stream",
     "text": [
      "Training Epoch 2: 100%|██████████████████████████████████████████████████████████████| 151/151 [01:06<00:00,  2.26it/s]\n"
     ]
    },
    {
     "name": "stdout",
     "output_type": "stream",
     "text": [
      "Epoch 2: Train Loss: 0.1694, Accuracy: 0.9380\n"
     ]
    },
    {
     "name": "stderr",
     "output_type": "stream",
     "text": [
      "Training Epoch 3: 100%|██████████████████████████████████████████████████████████████| 151/151 [01:07<00:00,  2.23it/s]\n"
     ]
    },
    {
     "name": "stdout",
     "output_type": "stream",
     "text": [
      "Epoch 3: Train Loss: 0.0512, Accuracy: 0.9854\n"
     ]
    },
    {
     "name": "stderr",
     "output_type": "stream",
     "text": [
      "100%|██████████████████████████████████████████████████████████████████████████████████| 37/37 [00:05<00:00,  6.73it/s]"
     ]
    },
    {
     "name": "stdout",
     "output_type": "stream",
     "text": [
      "Classification Report\n",
      "\n",
      "                precision    recall  f1-score   support\n",
      "\n",
      "Not Propaganda       0.96      0.93      0.95       301\n",
      "    Propaganda       0.93      0.96      0.95       279\n",
      "\n",
      "      accuracy                           0.95       580\n",
      "     macro avg       0.95      0.95      0.95       580\n",
      "  weighted avg       0.95      0.95      0.95       580\n",
      "\n"
     ]
    },
    {
     "name": "stderr",
     "output_type": "stream",
     "text": [
      "\n"
     ]
    },
    {
     "data": {
      "image/png": "[encoded data removed]",
      "text/plain": [
       "<Figure size 640x480 with 2 Axes>"
      ]
     },
     "metadata": {},
     "output_type": "display_data"
    }
   ],
   "source": [
    "# Load tokenizer\n",
    "bertTokenizer = BertTokenizer.from_pretrained('bert-base-uncased')\n",
    "\n",
    "# BERT Model class\n",
    "class BertBinaryClassifier(nn.Module):\n",
    "    def __init__(self, dropout=0.3):\n",
    "        super(BertBinaryClassifier, self).__init__()\n",
    "        self.bert = BertModel.from_pretrained('bert-base-uncased')\n",
    "        self.dropout = nn.Dropout(dropout)\n",
    "        self.linear = nn.Linear(768, 1)\n",
    "\n",
    "    def forward(self, input_id, mask):\n",
    "        _, pooled_output = self.bert(input_ids=input_id, attention_mask=mask, return_dict=False)\n",
    "        output = self.dropout(pooled_output)\n",
    "        return self.linear(output)\n",
    "\n",
    "# Convert preprocessed DataFrames to PropagandaDataset objects for BERT\n",
    "bert_train_dataset = PropagandaDataset(train_df,bertTokenizer)\n",
    "bert_test_dataset = PropagandaDataset(test_df,bertTokenizer)\n",
    "\n",
    "# Hyperparameters\n",
    "EPOCHS = 3\n",
    "LEARNING_RATE = 2e-5\n",
    "BATCH_SIZE = 16\n",
    "\n",
    "# Initialize BERT Model\n",
    "BertModel = BertBinaryClassifier()\n",
    "\n",
    "# Train the model\n",
    "BertModel = train(BertModel, bert_train_dataset, learning_rate=LEARNING_RATE, epochs=EPOCHS, batch_size=BATCH_SIZE)\n",
    "\n",
    "# Evaluate trained model on test dataset\n",
    "evaluate(BertModel, bert_test_dataset, batch_size=BATCH_SIZE)"
   ]
  },
  {
   "cell_type": "markdown",
   "id": "9f399b43-ba1b-4177-a60e-401756d16ab0",
   "metadata": {},
   "source": [
    "## RoBERTa Model: Training and Evaluation"
   ]
  },
  {
   "cell_type": "code",
   "execution_count": 14,
   "id": "c9ba6040-468b-45f5-a608-dc0f1c72dbf5",
   "metadata": {},
   "outputs": [
    {
     "name": "stderr",
     "output_type": "stream",
     "text": [
      "Some weights of RobertaModel were not initialized from the model checkpoint at roberta-base and are newly initialized: ['pooler.dense.bias', 'pooler.dense.weight']\n",
      "You should probably TRAIN this model on a down-stream task to be able to use it for predictions and inference.\n",
      "Training Epoch 1: 100%|██████████████████████████████████████████████████████████████| 151/151 [01:08<00:00,  2.21it/s]\n"
     ]
    },
    {
     "name": "stdout",
     "output_type": "stream",
     "text": [
      "Epoch 1: Train Loss: 0.4283, Accuracy: 0.7854\n"
     ]
    },
    {
     "name": "stderr",
     "output_type": "stream",
     "text": [
      "Training Epoch 2: 100%|██████████████████████████████████████████████████████████████| 151/151 [01:09<00:00,  2.18it/s]\n"
     ]
    },
    {
     "name": "stdout",
     "output_type": "stream",
     "text": [
      "Epoch 2: Train Loss: 0.1921, Accuracy: 0.9264\n"
     ]
    },
    {
     "name": "stderr",
     "output_type": "stream",
     "text": [
      "Training Epoch 3: 100%|██████████████████████████████████████████████████████████████| 151/151 [01:09<00:00,  2.17it/s]\n"
     ]
    },
    {
     "name": "stdout",
     "output_type": "stream",
     "text": [
      "Epoch 3: Train Loss: 0.1030, Accuracy: 0.9701\n"
     ]
    },
    {
     "name": "stderr",
     "output_type": "stream",
     "text": [
      "100%|██████████████████████████████████████████████████████████████████████████████████| 37/37 [00:05<00:00,  6.57it/s]"
     ]
    },
    {
     "name": "stdout",
     "output_type": "stream",
     "text": [
      "Classification Report\n",
      "\n",
      "                precision    recall  f1-score   support\n",
      "\n",
      "Not Propaganda       0.94      0.95      0.95       301\n",
      "    Propaganda       0.95      0.94      0.94       279\n",
      "\n",
      "      accuracy                           0.94       580\n",
      "     macro avg       0.94      0.94      0.94       580\n",
      "  weighted avg       0.94      0.94      0.94       580\n",
      "\n"
     ]
    },
    {
     "name": "stderr",
     "output_type": "stream",
     "text": [
      "\n"
     ]
    },
    {
     "data": {
      "image/png": "[encoded data removed]",
      "text/plain": [
       "<Figure size 640x480 with 2 Axes>"
      ]
     },
     "metadata": {},
     "output_type": "display_data"
    }
   ],
   "source": [
    "# Load tokenizer\n",
    "robertaTokenizer = RobertaTokenizer.from_pretrained('roberta-base')\n",
    "\n",
    "# RoBERTa Model class\n",
    "class RoBERTaClassifier(nn.Module):\n",
    "    def __init__(self, dropout=0.3):\n",
    "        super(RoBERTaClassifier, self).__init__()\n",
    "        self.roberta = RobertaModel.from_pretrained('roberta-base')\n",
    "        self.dropout = nn.Dropout(dropout)\n",
    "        self.linear = nn.Linear(768, 1)\n",
    "\n",
    "    def forward(self, input_id, mask):\n",
    "        _, pooled_output = self.roberta(input_ids=input_id, attention_mask=mask, return_dict=False)\n",
    "        output = self.dropout(pooled_output)\n",
    "        return self.linear(output)\n",
    "\n",
    "# Convert preprocessed DataFrames to PropagandaDataset objects for BERT\n",
    "roberta_train_dataset = PropagandaDataset(train_df,robertaTokenizer)\n",
    "roberta_test_dataset = PropagandaDataset(test_df,robertaTokenizer)\n",
    "\n",
    "# Hyperparameters\n",
    "EPOCHS = 3\n",
    "LEARNING_RATE = 2e-5\n",
    "BATCH_SIZE = 16\n",
    "\n",
    "# Initialize RoBERTa Model\n",
    "RoBERTaModel = RoBERTaClassifier()\n",
    "\n",
    "# Train the model\n",
    "RoBERTaModel = train(RoBERTaModel, roberta_train_dataset, learning_rate=LEARNING_RATE, epochs=EPOCHS, batch_size=BATCH_SIZE)\n",
    "\n",
    "# Evaluate trained model on test dataset\n",
    "evaluate(RoBERTaModel, roberta_test_dataset, batch_size=BATCH_SIZE)"
   ]
  },
  {
   "cell_type": "markdown",
   "id": "36c1950d-4b31-4043-a2b9-10a75485dfda",
   "metadata": {},
   "source": [
    "## Conclusion\n",
    "In this binary classification task for propaganda detection:\n",
    "\n",
    "* **BERT** achieved an **accuracy of 95%**, with slightly better performance on **Propaganda** detection (F1: 0.95).\n",
    "* **RoBERTa** achieved a comparable **accuracy of 94%**, performing marginally better on **Not Propaganda** detection.\n",
    "\n",
    "| Model   | Accuracy | F1 (NP) | F1 (P) |\n",
    "| ------- | -------- | ------- | ------ |\n",
    "| BERT    | 0.95     | 0.95    | 0.95   |\n",
    "| RoBERTa | 0.94     | 0.95    | 0.94   |\n",
    "\n",
    "Both models perform well overall, with **BERT showing a slight edge in recall for propaganda** instances, while **RoBERTa makes fewer false positives on non-propaganda**.\n",
    "\n",
    "#### Final Recommendation:\n",
    "\n",
    "Opt for BERT when the priority is to detect as much propaganda as possible, and choose RoBERTa if avoiding false flags on non-propaganda content is more important."
   ]
  }
 ],
 "metadata": {
  "kernelspec": {
   "display_name": "Python 3 (ipykernel)",
   "language": "python",
   "name": "python3"
  },
  "language_info": {
   "codemirror_mode": {
    "name": "ipython",
    "version": 3
   },
   "file_extension": ".py",
   "mimetype": "text/x-python",
   "name": "python",
   "nbconvert_exporter": "python",
   "pygments_lexer": "ipython3",
   "version": "3.12.3"
  }
 },
 "nbformat": 4,
 "nbformat_minor": 5
}
